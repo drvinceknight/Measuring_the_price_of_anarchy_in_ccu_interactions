{
 "cells": [
  {
   "cell_type": "code",
   "execution_count": 2,
   "metadata": {
    "collapsed": true
   },
   "outputs": [],
   "source": [
    "load(\"main.sage\")"
   ]
  },
  {
   "cell_type": "code",
   "execution_count": 81,
   "metadata": {
    "collapsed": false
   },
   "outputs": [
    {
     "name": "stdout",
     "output_type": "stream",
     "text": [
      "5.179782 [3, 0]\n",
      "5.187102 [2, 0]\n",
      "5.18715 [1, 0]\n",
      "5.18715 [0, 0]\n",
      "5.27725 [3, 1]\n",
      "5.282707 [2, 1]\n",
      "5.282742 [1, 1]\n",
      "5.282742 [0, 1]\n",
      "5.554541 [3, 2]\n",
      "5.556882 [2, 2]\n",
      "5.556897 [1, 2]\n",
      "5.556897 [0, 2]\n",
      "5.979868 [0, 3]\n",
      "5.979868 [1, 3]\n",
      "5.97987 [2, 3]\n",
      "5.980002 [3, 3]\n"
     ]
    }
   ],
   "source": [
    "capacity_list = [3, 3]\n",
    "serviceratelist = [1, 1]\n",
    "demandratelist = [300, 4]\n",
    "model = Model2(capacity_list, serviceratelist, demandratelist)\n",
    "model.sweepcutoffs()\n",
    "tps = {model.data[pair].throughput1 + model.data[pair].throughput2: pair for pair in model.data}\n",
    "for tp in sorted(tps.keys()):\n",
    "    print round(tp,6), tps[tp]"
   ]
  },
  {
   "cell_type": "code",
   "execution_count": 97,
   "metadata": {
    "collapsed": false
   },
   "outputs": [
    {
     "name": "stdout",
     "output_type": "stream",
     "text": [
      "[2, 3] [0.2234484262407821, 1.6624530322120652] [3, 1] [0, 3]\n"
     ]
    }
   ],
   "source": [
    "set_random_seed(0)\n",
    "for i in range(1000):\n",
    "    capacity_list = [randint(2, 4), randint(2, 4)]\n",
    "    serviceratelist = [5 * random(), 5 * random()]\n",
    "    demandratelist = [randint(1, 5), randint(1, 5)]\n",
    "    model = Model2(capacity_list, serviceratelist, demandratelist)\n",
    "    model.sweepcutoffs()\n",
    "    tps = {model.data[pair].throughput1 + model.data[pair].throughput2: pair for pair in model.data}\n",
    "    if tps[sorted(tps.keys())[-1]] != str(capacity_list):\n",
    "        print capacity_list, serviceratelist, demandratelist, tps[sorted(tps.keys())[-1]]\n",
    "        break"
   ]
  },
  {
   "cell_type": "code",
   "execution_count": 99,
   "metadata": {
    "collapsed": false
   },
   "outputs": [
    {
     "name": "stdout",
     "output_type": "stream",
     "text": [
      "1.296586 [2, 0]\n",
      "1.382315 [1, 0]\n",
      "1.388017 [0, 0]\n",
      "1.972831 [2, 1]\n",
      "2.052504 [1, 1]\n",
      "2.060249 [0, 1]\n",
      "2.656111 [2, 2]\n",
      "2.747235 [1, 2]\n",
      "2.761448 [0, 2]\n",
      "3.123209 [2, 3]\n",
      "3.204552 [1, 3]\n",
      "3.222853 [0, 3]\n"
     ]
    }
   ],
   "source": [
    "capacity_list = [2, 3]\n",
    "serviceratelist = [0.22, 1.66] \n",
    "demandratelist = [3, 1]\n",
    "model = Model2(capacity_list, serviceratelist, demandratelist)\n",
    "model.sweepcutoffs()\n",
    "tps = {model.data[pair].throughput1 + model.data[pair].throughput2: pair for pair in model.data}\n",
    "for tp in sorted(tps.keys()):\n",
    "    print round(tp,6), tps[tp]"
   ]
  },
  {
   "cell_type": "code",
   "execution_count": 95,
   "metadata": {
    "collapsed": false
   },
   "outputs": [
    {
     "name": "stdout",
     "output_type": "stream",
     "text": [
      "1.704098 [2, 0]\n",
      "1.843005 [1, 0]\n",
      "1.857689 [0, 0]\n",
      "3.27514 [2, 1]\n",
      "3.472371 [1, 1]\n",
      "3.51033 [0, 1]\n",
      "4.291777 [2, 2]\n",
      "4.488501 [1, 2]\n",
      "4.549065 [0, 2]\n",
      "4.767654 [2, 3]\n",
      "4.877357 [1, 3]\n",
      "4.916791 [0, 3]\n",
      "4.928235 [2, 4]\n",
      "4.961882 [1, 4]\n",
      "4.969698 [0, 4]\n"
     ]
    }
   ],
   "source": [
    "capacity_list = [2, 4]\n",
    "serviceratelist = [0.48673886470342154, 4.42270549358144] \n",
    "demandratelist = [4, 1]\n",
    "model = Model2(capacity_list, serviceratelist, demandratelist)\n",
    "model.sweepcutoffs()\n",
    "tps = {model.data[pair].throughput1 + model.data[pair].throughput2: pair for pair in model.data}\n",
    "for tp in sorted(tps.keys()):\n",
    "    print round(tp,6), tps[tp]"
   ]
  },
  {
   "cell_type": "code",
   "execution_count": null,
   "metadata": {
    "collapsed": true
   },
   "outputs": [],
   "source": []
  },
  {
   "cell_type": "code",
   "execution_count": 88,
   "metadata": {
    "collapsed": false
   },
   "outputs": [
    {
     "name": "stdout",
     "output_type": "stream",
     "text": [
      "2.002933 [0, 3]\n",
      "2.139605 [0, 2]\n",
      "2.165341 [0, 1]\n",
      "2.167968 [0, 0]\n",
      "2.581547 [1, 3]\n",
      "2.665997 [1, 2]\n",
      "2.684608 [1, 1]\n",
      "2.686895 [1, 0]\n",
      "3.118952 [2, 3]\n",
      "3.157961 [2, 2]\n",
      "3.160705 [2, 0]\n",
      "3.162266 [2, 1]\n"
     ]
    }
   ],
   "source": [
    "capacity_list = [2, 3]\n",
    "serviceratelist = [1.37140305513556, 0.5014087278308599] \n",
    "demandratelist = [1, 4]\n",
    "model = Model2(capacity_list, serviceratelist, demandratelist)\n",
    "model.sweepcutoffs()\n",
    "tps = {model.data[pair].throughput1 + model.data[pair].throughput2: pair for pair in model.data}\n",
    "for tp in sorted(tps.keys()):\n",
    "    print round(tp,6), tps[tp]"
   ]
  }
 ],
 "metadata": {
  "kernelspec": {
   "display_name": "SageMath 7.0.beta3",
   "language": "",
   "name": "sagemath"
  },
  "language_info": {
   "codemirror_mode": {
    "name": "ipython",
    "version": 2
   },
   "file_extension": ".py",
   "mimetype": "text/x-python",
   "name": "python",
   "nbconvert_exporter": "python",
   "pygments_lexer": "ipython2",
   "version": "2.7.10"
  }
 },
 "nbformat": 4,
 "nbformat_minor": 0
}
